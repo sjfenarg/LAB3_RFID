{
 "cells": [
  {
   "cell_type": "markdown",
   "metadata": {},
   "source": [
    "# AoA Estimation \n",
    "\n",
    "### Linear Antenna Arrays\n",
    "\n",
    "In this task, our goal is to estimate the AoA of the reflected signal from the RFID tag. Consider the linear antenna array setup shown below.\n",
    "\n",
    "<img src=\"media/image2.png\" alt=\"drawing\" width=\"600\"/>\n",
    "\n",
    " Assuming that the channels measured at antenna element `Rxi` is given by `h_i` , where `1 ≤ i ≤ N` , the AoA of the signal can be given by:  \n",
    "\n",
    "<img src=\"media/image.png\" alt=\"drawing\" width=\"600\"/>\n",
    "\n",
    "\n",
    "However, since RFID tags reflect signals, the above formula needs to be modified in order to estimate the AoA. You should write down the modified formula in your report, and explain it.\n",
    "\n",
    "\n",
    "Next, you must implement the function `estimate_aoa` to estimate the AoA given the channel measurements hi, based on the modified formula. The `estimate_aoa` function should return AoA values in the resolution of 1 degree. This function will be evaluated on two data sets, simulated data and real data from RFID hardware. \n",
    "\n"
   ]
  },
  {
   "cell_type": "code",
   "execution_count": 9,
   "metadata": {},
   "outputs": [],
   "source": [
    "def estimate_aoa(h, d, wavelength):\n",
    "    aoa = 0\n",
    "    return aoa\n"
   ]
  },
  {
   "cell_type": "markdown",
   "metadata": {},
   "source": [
    "Testing on simulated data "
   ]
  },
  {
   "cell_type": "code",
   "execution_count": null,
   "metadata": {},
   "outputs": [],
   "source": [
    "from utils import read_data\n",
    "import numpy as np\n",
    "import pandas as pd\n",
    "import matplotlib.pyplot as plt\n",
    "import scipy.io as sio\n",
    "import os\n",
    "\n",
    "## Task 2 \n",
    "## todo: Implement the function estimate_aoa(h, d, wavelength) that estimates the angle of arrival of the signal\n",
    "\n",
    "\n",
    "# Load simulated data from .mat file\n",
    "data = sio.loadmat('Test/Test_AoA_Estimation.mat')\n",
    "\n",
    "# Assuming 'h_channel', 'd', and 'lambda' are keys in the loaded data\n",
    "h_channel = data['h_channel']\n",
    "d = data['d'][0][0]\n",
    "lambda_ = data['lambda'][0][0]\n",
    "\n",
    "# Initialize angles array\n",
    "angles = np.zeros(100)\n",
    "\n",
    "# Calculate angles using estimate_aoa function\n",
    "for k in range(100):\n",
    "    h_curr = h_channel[k, :]\n",
    "    angles[k] = estimate_aoa(h_curr, d, lambda_)\n",
    "\n",
    "# Save angles array to a .mat file\n",
    "sio.savemat('../Results/AoA_estimation.mat', {'angles': angles})"
   ]
  },
  {
   "cell_type": "markdown",
   "metadata": {},
   "source": [
    "Testing on RFID data"
   ]
  },
  {
   "cell_type": "code",
   "execution_count": 10,
   "metadata": {},
   "outputs": [
    {
     "name": "stdout",
     "output_type": "stream",
     "text": [
      "0\n"
     ]
    }
   ],
   "source": [
    "\n",
    "# Read the real RFID data file\n",
    "file = 'Lab_Data/lab3_task2.txt'\n",
    "channel_log = read_data(file)\n",
    "\n",
    "# Extract and process the data\n",
    "ant = channel_log['ant'].values\n",
    "freq = channel_log['Frequency'].iloc[0] * 1e3\n",
    "pha = channel_log['Phase'].astype(float).values\n",
    "\n",
    "phas = [None] * 4\n",
    "h = np.zeros(4)\n",
    "\n",
    "for k in range(4):\n",
    "    phas[k] = pha[ant == (k + 1)]\n",
    "    h[k] = np.mean(phas[k])\n",
    "\n",
    "lambda_ = 3e8 / freq\n",
    "d = lambda_ / 4\n",
    "\n",
    "\n",
    "print(estimate_aoa(h, d, lambda_))\n",
    "\n"
   ]
  },
  {
   "cell_type": "markdown",
   "metadata": {},
   "source": [
    "### Circular Antenna Arrays\n",
    "\n",
    "In this subtask you will estimate the AoA from a circular array of RFIDs as shown below.\n",
    "\n",
    " <img src=\"media/image3.png\" alt=\"drawing\" width=\"600\"/>\n",
    "\n",
    "The circular array has n number of RFID tags and the radius of the array is R. The figure also shows the channels bk measured at antenna k for a signal arriving from θdirection. Based on\n",
    "this, write down the formula similar to the equation provided above or calculating AoA for such a circular array. \n",
    "\n",
    "Assume the channels measured from RFID element i is given by hi . Note that your formula should account for the fact that RFID tags reflect signals, similar to the previous subpart. "
   ]
  },
  {
   "cell_type": "markdown",
   "metadata": {},
   "source": [
    "Now you must implement the function `estimate_aoa_circular` to estimate AoA given the channel measurements hi’s from a circular RFID array. \n",
    "The function also takes as input the radius of the array R and the λ. The `estimate_aoa_circular` function should return AoA values in the resolution of 1 degree. \n",
    "\n",
    "To evaluate your function, you must run the test script below which will save the output in the Results folder."
   ]
  },
  {
   "cell_type": "code",
   "execution_count": 2,
   "metadata": {},
   "outputs": [],
   "source": [
    "def estimate_aoa_circular(h, R, wavelength):\n",
    "    aoa = 0\n",
    "    return aoa\n"
   ]
  },
  {
   "cell_type": "code",
   "execution_count": 3,
   "metadata": {},
   "outputs": [],
   "source": [
    "import numpy as np\n",
    "import scipy.io as sio\n",
    "\n",
    "# Load data from .mat file\n",
    "data = sio.loadmat('Test/Test_AoA_Estimation_circular.mat')\n",
    "\n",
    "# Assuming 'channels', 'R', and 'lambda' are keys in the loaded data\n",
    "channels = data['channels']\n",
    "R = data['R'][0][0]\n",
    "lambda_ = data['lambda'][0][0]\n",
    "\n",
    "# Initialize angles array\n",
    "angles = np.zeros(100)\n",
    "\n",
    "# Calculate angles using estimate_aoa_circular function\n",
    "for k in range(100):\n",
    "    h_curr = channels[k, :]\n",
    "    angles[k] = estimate_aoa_circular(h_curr, R, lambda_)\n",
    "\n",
    "# Save angles array to a .mat file\n",
    "sio.savemat('Results/AoA_estimation_circular.mat', {'angles': angles})\n"
   ]
  }
 ],
 "metadata": {
  "kernelspec": {
   "display_name": "pyt",
   "language": "python",
   "name": "python3"
  },
  "language_info": {
   "codemirror_mode": {
    "name": "ipython",
    "version": 3
   },
   "file_extension": ".py",
   "mimetype": "text/x-python",
   "name": "python",
   "nbconvert_exporter": "python",
   "pygments_lexer": "ipython3",
   "version": "3.12.4"
  }
 },
 "nbformat": 4,
 "nbformat_minor": 2
}
