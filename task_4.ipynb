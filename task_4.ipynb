{
 "cells": [
  {
   "cell_type": "markdown",
   "metadata": {},
   "source": [
    "## Localization Using Multiple RFID Tags"
   ]
  },
  {
   "cell_type": "markdown",
   "metadata": {},
   "source": [
    "In this task, we try to localize a moving object using just 1 RFID reader antenna, but with multiple RFID tags. This is a more scalable solution, since RFID tags are extremely cheap and we can fix multiple tags to the object being localized.\n",
    "\n",
    "The setup is as follows — an object is affixed with multiple RFID tags, as shown in the figure below. The relative positioning of the RFID tags on the object is measured apriori, and provided to you in the skeleton code where needed. Our goal here is to track the trajectory of the object as it moves. To this end, we move the object on some trajectory (marked by the black line in the figure (U shaped)). We collect phase measurements from the two tags as the object moves on the trajectory, and based on these phase measurements we estimate the trajectory of motion of the object. \n",
    "\n",
    "<img src=\"media/image5.png\" alt=\"drawing\" width=\"700\"/> \n"
   ]
  },
  {
   "cell_type": "markdown",
   "metadata": {},
   "source": [
    "The core idea is as follows. When an RFID tag moves by some distance ∆d, the associated phase change observed at the RFID reader will be 4π∆d/λ (assuming no phase wrap takes place).\n",
    "If we knew the initial position of the RFID reader with respect to the tag, then based on the phase change we can measure the new distance of the tag from the RFID reader (d + ∆d ). However, this information from a single tag is not sufficient to localize the reader since we do not have information about the relative direction. Therefore, we leverage this information from two tags, and estimate the relative position of the RFID reader using trilateration. If we perform this estimation across all successive points along the object’s trajectory, we can obtain the entire trajectory of the reader from the frame of reference of the object. Finally, we must rotate this trajectory using matrix multiplications, in order to retrieve the true trajectory of the object.\n",
    "\n",
    "Your task in this lab is to implement the above system. We further break down this task into the following sub-tasks.\n"
   ]
  },
  {
   "cell_type": "markdown",
   "metadata": {},
   "source": [
    "### Estimate change in distance\n",
    "You must complete the functions `get_phase_change` and `variation_distance`. The `variation_distance` function should take as input the previous distance estimate, the observed phase change and the wavelength of the RF frequency. Based on these, it should output the new distance estimate after accounting for the phase change. In order to test this function, you must run the test cell below. This will save an output file to the Results folder. \n",
    "\n",
    "Moreover, you should plot the required results and submit them in your report. "
   ]
  },
  {
   "cell_type": "code",
   "execution_count": 11,
   "metadata": {},
   "outputs": [],
   "source": [
    "from utils import read_data\n",
    "import numpy as np\n",
    "import pandas as pd\n",
    "import matplotlib.pyplot as plt\n",
    "from scipy.spatial.distance import pdist\n",
    "\n",
    "def get_phase_change(pha):\n",
    "    pha_rad = np.deg2rad(pha)  # Convert degrees to radians (0 to π)\n",
    "    pha_rad_doubled = pha_rad  # Scale to 0 to 2π radians\n",
    "    pha_unwrapped = np.unwrap(pha_rad_doubled, period=np.pi)  # Unwrap phase\n",
    "    pha_unwrapped_deg = np.rad2deg(pha_unwrapped)  # Convert back to degrees\n",
    "    dpha = np.diff(pha_unwrapped_deg)  # Compute phase difference\n",
    "    dpha = np.insert(dpha, 0, 0)  # Insert zero at the beginning\n",
    "    return dpha\n",
    "\n",
    "def variation_distance(distance_prev, phase_change, wavelength):\n",
    "    ddist = phase_change * wavelength / (4*np.pi)\n",
    "    distance_next = np.zeros(distance_prev.shape)\n",
    "\n",
    "\n",
    "    distance_next = distance_prev + ddist\n",
    "    return distance_next\n"
   ]
  },
  {
   "cell_type": "code",
   "execution_count": 12,
   "metadata": {},
   "outputs": [
    {
     "name": "stderr",
     "output_type": "stream",
     "text": [
      "C:\\Users\\mario\\AppData\\Local\\Temp\\ipykernel_5204\\3036810047.py:17: DeprecationWarning: Conversion of an array with ndim > 0 to a scalar is deprecated, and will error in future. Ensure you extract a single element from your array before performing this operation. (Deprecated NumPy 1.25.)\n",
      "  dist_next[k] = variation_distance(distance[k], phase_change[k], lambda_)\n"
     ]
    },
    {
     "name": "stdout",
     "output_type": "stream",
     "text": [
      "[[6.26995116 9.19283715 4.15336597 7.11692258 9.71063918 4.35650954\n",
      "  6.3556629  9.01748234 8.71770826 1.4289372 ]] [6.27790868 9.20413467 4.16216512 7.12152935 9.71695484 4.36879216\n",
      " 6.36478813 9.02145444 8.72520706 1.4418847 ]\n"
     ]
    },
    {
     "data": {
      "image/png": "[encoded data removed]",
      "text/plain": [
       "<Figure size 640x480 with 1 Axes>"
      ]
     },
     "metadata": {},
     "output_type": "display_data"
    }
   ],
   "source": [
    "import numpy as np\n",
    "\n",
    "import scipy.io as sio\n",
    "\n",
    "# Load the MATLAB file\n",
    "data = sio.loadmat('Test/Test_Dist_Variation.mat')\n",
    "distance = data['distance'][0]\n",
    "phase_change = data['phase_change'][0]\n",
    "lambda_ = data['lambda'][0]\n",
    "\n",
    "# Initialize the dist_next array\n",
    "dist_next = np.zeros(100)\n",
    "\n",
    "# Calculate the variation distance for each k\n",
    "for k in range(100):\n",
    "\n",
    "    dist_next[k] = variation_distance(distance[k], phase_change[k], lambda_)\n",
    "\n",
    "plt.figure()\n",
    "plt.plot(dist_next[0:10], label=\"Distance estimated\")\n",
    "\n",
    "debugging_data = sio.loadmat(\"Debugging_data/Dist_Variation_Results_10.mat\")\n",
    "debugging_data = debugging_data['dist_next']\n",
    "plt.scatter(np.arange(0,10), debugging_data, color='red')\n",
    "print(debugging_data, dist_next[0:10])\n",
    "\n",
    "# Save the results to a MATLAB file\n",
    "sio.savemat('Results/Dist_Variation_Results.mat', {'dist_next': dist_next})"
   ]
  },
  {
   "cell_type": "markdown",
   "metadata": {},
   "source": [
    "### Trilateration\n",
    "\n",
    "You must fill in the function `trilateration`. This code will take as input the coordinates of the two anchor points (RFID tag 1 and tag 2 in our case) in the 2D plane, and the corresponding distance of the RFID reader from the two anchor points. Based on these measurements, we will localize the RFID reader in the 2D plane. In order to test this function, you must run the trilateration test cell below. This will save an output file to the Results folder."
   ]
  },
  {
   "cell_type": "code",
   "execution_count": null,
   "metadata": {},
   "outputs": [],
   "source": [
    "def trilateration(anchor1, anchor2, dist_anchor1, dist_anchor2):\n",
    "    import numpy as np\n",
    "    import matplotlib.pyplot as plt\n",
    "\n",
    "\n",
    "    x0, y0 = anchor1\n",
    "    x1, y1 = anchor2\n",
    "    r0 = dist_anchor1\n",
    "    r1 = dist_anchor2\n",
    "\n",
    "    # Compute the distance between the centers\n",
    "    dx, dy = x1 - x0, y1 - y0\n",
    "    d = np.hypot(dx, dy)\n",
    "\n",
    "    # Check for solvability\n",
    "    if d > r0 + r1:\n",
    "        print(\"No intersection; the circles are separate.\")\n",
    "        return None\n",
    "    if d < abs(r0 - r1):\n",
    "        print(\"No intersection; one circle is contained within the other.\")\n",
    "        return None\n",
    "    if d == 0 and r0 == r1:\n",
    "        print(\"Infinite number of intersections; the circles are coincident.\")\n",
    "        return None\n",
    "\n",
    "    # Find a and h\n",
    "    a = (r0**2 - r1**2 + d**2) / (2 * d)\n",
    "    h = np.sqrt(r0**2 - a**2)\n",
    "\n",
    "    # Find P2\n",
    "    x2 = x0 + a * (x1 - x0) / d\n",
    "    y2 = y0 + a * (y1 - y0) / d\n",
    "\n",
    "    # Get the intersection points\n",
    "    rx = -dy * (h / d)\n",
    "    ry = dx * (h / d)\n",
    "\n",
    "    xi1 = x2 + rx\n",
    "    yi1 = y2 + ry\n",
    "    xi2 = x2 - rx\n",
    "    yi2 = y2 - ry\n",
    "\n",
    "    # Plotting\n",
    "    fig, ax = plt.subplots()\n",
    "    circle1 = plt.Circle((x0, y0), r0, color='blue', fill=False)\n",
    "    circle2 = plt.Circle((x1, y1), r1, color='red', fill=False)\n",
    "    ax.add_artist(circle1)\n",
    "    ax.add_artist(circle2)\n",
    "    ax.plot([xi1, xi2], [yi1, yi2], 'go')  # Intersection points\n",
    "    ax.set_aspect('equal')\n",
    "    ax.set_xlim(min(x0 - r0, x1 - r1) - 1, max(x0 + r0, x1 + r1) + 1)\n",
    "    ax.set_ylim(min(y0 - r0, y1 - r1) - 1, max(y0 + r0, y1 + r1) + 1)\n",
    "    plt.grid(True)\n",
    "    plt.show()\n",
    "\n",
    "\n",
    "    return (xi2,yi2) if yi2 > yi1 else (xi1,yi1)"
   ]
  },
  {
   "cell_type": "code",
   "execution_count": 41,
   "metadata": {},
   "outputs": [],
   "source": [
    "import numpy as np\n",
    "\n",
    "import scipy.io as sio\n",
    "\n",
    "# Load the MATLAB file\n",
    "data = sio.loadmat('Test/Test_Trilateration.mat')\n",
    "anchor1 = data['anchor1'][0]\n",
    "anchor2 = data['anchor2'][0]\n",
    "radius1 = data['radius1'][0]\n",
    "radius2 = data['radius2'][0]\n",
    "\n",
    "# Initialize the position array\n",
    "pos = np.zeros((10, 2))\n",
    "\n",
    "# Perform trilateration for each data point\n",
    "for k in range(10):\n",
    "    pos[k, :] = trilateration(anchor1, anchor2, radius1[k], radius2[k])\n",
    "\n",
    "\n",
    "debugging_data = sio.loadmat(\"Debugging_data/Trilateration_Results_5.mat\")\n",
    "\n",
    "\n",
    "\n",
    "assert np.allclose(debugging_data['pos'], pos[:5], atol=1e-6) , \"The results are not correct\"\n",
    "# Save the results to a MATLAB file\n",
    "sio.savemat('Results/Trilateration_results.mat', {'pos': pos})"
   ]
  },
  {
   "cell_type": "markdown",
   "metadata": {},
   "source": [
    "### Trajectory Rotation\n",
    "\n",
    "In the above two tasks, we are estimating the relative trajectory of the RFID reader from the frame of reference of the object. Therefore the above blocks will output a sequence of relative positions of the reader with respect to the object. However, in order to obtain the true trajectory of the object, we must invert this trajectory back to a stationary frame of reference.\n",
    "\n",
    "This can be modeled as a simple matrix multiplication. That is, if we have a matrix `v` where the it `h` row of `v` denotes the relative `(x, y)` coordinate of the RFID reader at time `i` , then the true trajectory of the object can be obtained as ``v x R`` where `R` is a 2 × 2 matrix. In your report, you must derive the matrix `R`. You should use this matrix `R`, to complete the function invert_traj.\n",
    "\n",
    "In order to evaluate the function, you should run the inverted trajectory test cell below. This will save an output file to the Results folder."
   ]
  },
  {
   "cell_type": "code",
   "execution_count": 1,
   "metadata": {},
   "outputs": [],
   "source": [
    "def invert_traj(traj):\n",
    "    new_traj = np.zeros(traj.shape)\n",
    "\n",
    "    return new_traj\n"
   ]
  },
  {
   "cell_type": "code",
   "execution_count": null,
   "metadata": {},
   "outputs": [],
   "source": [
    "import numpy as np\n",
    "\n",
    "import matplotlib.pyplot as plt\n",
    "import scipy.io as sio\n",
    "\n",
    "# Load the trajectory data\n",
    "data = sio.loadmat('Test/Test_trajectory_inversion.mat')\n",
    "traj = data['traj']\n",
    "\n",
    "# Invert the trajectory\n",
    "traj_new = invert_traj(traj)\n",
    "\n",
    "# Plot the original and inverted trajectories\n",
    "fig, ax = plt.subplots()\n",
    "ax.plot(traj[:, 0], traj[:, 1], linewidth=4, label='Relative Trajectory')\n",
    "ax.plot(traj_new[:, 0], traj_new[:, 1], linewidth=4, label='Ground Frame Trajectory')\n",
    "ax.legend()\n",
    "ax.set_title('Trajectory Inversion Results')\n",
    "\n",
    "# Save the figure and trajectory data\n",
    "plt.savefig('Results/Result_trajectory_inversion.png')\n",
    "sio.savemat('Results/Result_trajectory_inversion.mat', {'traj_new': traj_new})"
   ]
  },
  {
   "cell_type": "markdown",
   "metadata": {},
   "source": [
    "### Estimate Trajectory \n",
    "\n",
    "Now that we have all the blocks ready, we can use them to track trajectory of the object. We col lect phase measurements from the RFID tags as the object moves on the trajectory, and provide\n",
    "them in the data file `Lab_Data/lab3_task4.txt`. You will process this data to estimate the relative trajectory of the reader, and further obtain the true trajectory of the object. \n",
    "\n",
    "\n",
    "The code for this subpart should be written in the cell below. The script should call the functions that you implemented in the previous sub-parts. The skeleton code provides you with all the measurements you need, such as the initial position of the RFID reader relative to the tags, the relative positioning of the RFID tags on the object, and the shape and dimensions of the ground truth trajectory of the object"
   ]
  },
  {
   "cell_type": "code",
   "execution_count": null,
   "metadata": {},
   "outputs": [],
   "source": [
    "\n",
    "# Assuming the functions read_data, get_phase_change, variation_distance, trilateration, invert_traj are already defined.\n",
    "\n",
    "# Read the data file\n",
    "file = 'Lab_Data/lab3_task4.txt'\n",
    "channel_log = read_data(file)\n",
    "\n",
    "\n",
    "# Extract and process the data\n",
    "epc = channel_log['EPC'].astype(str).values\n",
    "freq = channel_log['Frequency'].iloc[0] * 1e3\n",
    "pha = channel_log['Phase'].astype(float).values\n",
    "time = (channel_log['hour'] * 60 + channel_log['minute']) * 60 + channel_log['second'] + channel_log['nanosecond'] * 1e-9\n",
    "time = time - time[0]\n",
    "\n",
    "lambda_ = 3e8 / freq\n",
    "d = 7.62e-2\n",
    "\n",
    "anchorl = np.array([-d, 0])\n",
    "anchorr = np.array([d, 0])\n",
    "\n",
    "# Relative trace\n",
    "pos = np.zeros((len(time), 2))\n",
    "pos[0, :] = [1.12e-1, 8.33e-1]\n",
    "\n",
    "# Phase change\n",
    "\n",
    "# TODO: Plot phase unwrapping\n",
    "\n",
    "\n",
    "# TODO: Plot phase changes\n",
    "\n",
    "# Distance changes\n",
    "\n",
    "\n",
    "# TODO: Plot distances\n",
    "\n",
    "\n",
    "# Position changes\n",
    "\n",
    "# TODO: show trace\n",
    "\n",
    "\n",
    "# TODO: show Static trace\n",
    "\n",
    "\n",
    "# Measured trace\n"
   ]
  }
 ],
 "metadata": {
  "kernelspec": {
   "display_name": "an_vlsi",
   "language": "python",
   "name": "python3"
  },
  "language_info": {
   "codemirror_mode": {
    "name": "ipython",
    "version": 3
   },
   "file_extension": ".py",
   "mimetype": "text/x-python",
   "name": "python",
   "nbconvert_exporter": "python",
   "pygments_lexer": "ipython3",
   "version": "3.9.19"
  }
 },
 "nbformat": 4,
 "nbformat_minor": 2
}
