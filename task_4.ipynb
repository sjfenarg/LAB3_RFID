{
 "cells": [
  {
   "cell_type": "markdown",
   "metadata": {},
   "source": [
    "## Localization Using Multiple RFID Tags"
   ]
  },
  {
   "cell_type": "markdown",
   "metadata": {},
   "source": [
    "In this task, we try to localize a moving object using just 1 RFID reader antenna, but with multiple RFID tags. This is a more scalable solution, since RFID tags are extremely cheap and we can fix multiple tags to the object being localized.\n",
    "\n",
    "The setup is as follows — an object is affixed with multiple RFID tags, as shown in the figure below. The relative positioning of the RFID tags on the object is measured apriori, and provided to you in the skeleton code where needed. Our goal here is to track the trajectory of the object as it moves. To this end, we move the object on some trajectory (marked by the black line in the figure (U shaped)). We collect phase measurements from the two tags as the object moves on the trajectory, and based on these phase measurements we estimate the trajectory of motion of the object. \n",
    "\n",
    "<img src=\"media/image5.png\" alt=\"drawing\" width=\"700\"/> \n"
   ]
  },
  {
   "cell_type": "markdown",
   "metadata": {},
   "source": [
    "The core idea is as follows. When an RFID tag moves by some distance ∆d, the associated phase change observed at the RFID reader will be 4π∆d/λ (assuming no phase wrap takes place).\n",
    "If we knew the initial position of the RFID reader with respect to the tag, then based on the phase change we can measure the new distance of the tag from the RFID reader (d + ∆d ). However, this information from a single tag is not sufficient to localize the reader since we do not have information about the relative direction. Therefore, we leverage this information from two tags, and estimate the relative position of the RFID reader using trilateration. If we perform this estimation across all successive points along the object’s trajectory, we can obtain the entire trajectory of the reader from the frame of reference of the object. Finally, we must rotate this trajectory using matrix multiplications, in order to retrieve the true trajectory of the object.\n",
    "\n",
    "Your task in this lab is to implement the above system. We further break down this task into the following sub-tasks.\n"
   ]
  },
  {
   "cell_type": "markdown",
   "metadata": {},
   "source": [
    "### Estimate change in distance\n",
    "You must complete the functions `get_phase_change` and `variation_distance`. The `variation_distance` function should take as input the previous distance estimate, the observed phase change and the wavelength of the RF frequency. Based on these, it should output the new distance estimate after accounting for the phase change. In order to test this function, you must run the test cell below. This will save an output file to the Results folder. \n",
    "\n",
    "Moreover, you should plot the required results and submit them in your report. "
   ]
  },
  {
   "cell_type": "code",
   "execution_count": null,
   "metadata": {},
   "outputs": [],
   "source": [
    "from utils import read_data\n",
    "import numpy as np\n",
    "import pandas as pd\n",
    "import matplotlib.pyplot as plt\n",
    "from scipy.spatial.distance import pdist\n",
    "\n",
    "def get_phase_change(pha):\n",
    "    pha_rad = np.deg2rad(pha)  # Convert degrees to radians (0 to π)\n",
    "    pha_rad_doubled = pha_rad  # Scale to 0 to 2π radians\n",
    "    pha_unwrapped = np.unwrap(pha_rad_doubled, period=np.pi)  # Unwrap phase\n",
    "    pha_unwrapped_deg = np.rad2deg(pha_unwrapped)  # Convert back to degrees\n",
    "    dpha = np.diff(pha_unwrapped_deg)  # Compute phase difference\n",
    "    dpha = np.insert(dpha, 0, 0)  # Insert zero at the beginning\n",
    "    return dpha\n",
    "\n",
    "def variation_distance(distance_prev, phase_change, wavelength):\n",
    "    ddist = phase_change * wavelength / (4*np.pi)\n",
    "    distance_next = np.zeros(distance_prev.shape)\n",
    "    distance_next = distance_prev + ddist\n",
    "    return distance_next\n"
   ]
  },
  {
   "cell_type": "code",
   "execution_count": null,
   "metadata": {},
   "outputs": [
    {
     "name": "stdout",
     "output_type": "stream",
     "text": [
      "[[ 98.28174762 139.53356641 108.67669678  56.89731541  78.00346079\n",
      "  151.7002352  112.70389025  49.05864898  92.61619591 159.91209088\n",
      "   31.37326915 147.61229847  32.61453823  17.50746106   5.63666511\n",
      "    1.83165461 174.14043478 159.84675792   8.9433661  120.6372475\n",
      "  175.7918386   39.64790202  15.13054797  64.5956886  131.9729726\n",
      "  108.38595998  81.24674574 164.30465615   0.57190765  91.81435066\n",
      "   26.00296559  90.83698165 102.27864853 115.59064005  37.2480881\n",
      "   61.23368832  58.94536671 110.69367455 106.4141524  123.82633841\n",
      "   29.95880519 117.40094527 138.35477925  71.23794684  71.32754924\n",
      "  124.58164086  42.78113927 170.79888811  24.43542334  92.07278724\n",
      "    7.45753634  56.2337261   57.91861164 170.69801367  37.32142176\n",
      "   88.08165928  80.04154862 147.75270583   3.14643874 141.93276759\n",
      "   97.3422336    8.18575797  92.49308005  80.21230693  88.4456874\n",
      "  118.7801077   90.96664321 133.53474735 169.89293581 143.87851858\n",
      "   78.79075508  16.25629235 168.04224656  68.10773427 136.60601925\n",
      "  144.682814   144.76253037 107.24284452  58.49765702 134.70262551\n",
      "   85.7649219   92.80630954  86.41703562  76.32303129  31.68316438\n",
      "   50.50018767 157.98082426 157.29398614  88.12560623 109.13069348\n",
      "  129.18371585  25.20422974 104.94963562  35.10001008  11.4007893\n",
      "   11.50230081 169.17590488  93.63318868  27.02088274 116.38660922]]\n"
     ]
    },
    {
     "ename": "NameError",
     "evalue": "name 'variation_distance' is not defined",
     "output_type": "error",
     "traceback": [
      "\u001b[1;31m---------------------------------------------------------------------------\u001b[0m",
      "\u001b[1;31mNameError\u001b[0m                                 Traceback (most recent call last)",
      "Cell \u001b[1;32mIn[1], line 18\u001b[0m\n\u001b[0;32m     16\u001b[0m \u001b[38;5;66;03m# Calculate the variation distance for each k\u001b[39;00m\n\u001b[0;32m     17\u001b[0m \u001b[38;5;28;01mfor\u001b[39;00m k \u001b[38;5;129;01min\u001b[39;00m \u001b[38;5;28mrange\u001b[39m(\u001b[38;5;241m100\u001b[39m):\n\u001b[1;32m---> 18\u001b[0m     dist_next[k] \u001b[38;5;241m=\u001b[39m \u001b[43mvariation_distance\u001b[49m(distance[k], phase_change[k], lambda_)\n\u001b[0;32m     20\u001b[0m \u001b[38;5;66;03m# Save the results to a MATLAB file\u001b[39;00m\n\u001b[0;32m     21\u001b[0m sio\u001b[38;5;241m.\u001b[39msavemat(\u001b[38;5;124m'\u001b[39m\u001b[38;5;124mResults/Dist_Variation_Results.mat\u001b[39m\u001b[38;5;124m'\u001b[39m, {\u001b[38;5;124m'\u001b[39m\u001b[38;5;124mdist_next\u001b[39m\u001b[38;5;124m'\u001b[39m: dist_next})\n",
      "\u001b[1;31mNameError\u001b[0m: name 'variation_distance' is not defined"
     ]
    }
   ],
   "source": [
    "import numpy as np\n",
    "\n",
    "import scipy.io as sio\n",
    "\n",
    "# Load the MATLAB file\n",
    "data = sio.loadmat('Test/Test_Dist_Variation.mat')\n",
    "distance = data['distance']\n",
    "phase_change = data['phase_change']\n",
    "lambda_ = data['lambda']\n",
    "\n",
    "# Initialize the dist_next array\n",
    "dist_next = np.zeros(100)\n",
    "\n",
    "# Calculate the variation distance for each k\n",
    "for k in range(100):\n",
    "    dist_next[k] = variation_distance(distance[k], phase_change[k], lambda_)\n",
    "\n",
    "# Save the results to a MATLAB file\n",
    "sio.savemat('Results/Dist_Variation_Results.mat', {'dist_next': dist_next})"
   ]
  },
  {
   "cell_type": "markdown",
   "metadata": {},
   "source": [
    "### Trilateration\n",
    "\n",
    "You must fill in the function `trilateration`. This code will take as input the coordinates of the two anchor points (RFID tag 1 and tag 2 in our case) in the 2D plane, and the corresponding distance of the RFID reader from the two anchor points. Based on these measurements, we will localize the RFID reader in the 2D plane. In order to test this function, you must run the trilateration test cell below. This will save an output file to the Results folder."
   ]
  },
  {
   "cell_type": "code",
   "execution_count": null,
   "metadata": {},
   "outputs": [],
   "source": [
    "def trilateration(anchor1, anchor2, dist_anchor1, dist_anchor2):\n",
    "\n",
    "    return (0, 0)\n",
    "    "
   ]
  },
  {
   "cell_type": "code",
   "execution_count": null,
   "metadata": {},
   "outputs": [],
   "source": [
    "import numpy as np\n",
    "\n",
    "import scipy.io as sio\n",
    "\n",
    "# Load the MATLAB file\n",
    "data = sio.loadmat('Test/Test_Trilateration.mat')\n",
    "anchor1 = data['anchor1']\n",
    "anchor2 = data['anchor2']\n",
    "radius1 = data['radius1']\n",
    "radius2 = data['radius2']\n",
    "\n",
    "# Initialize the position array\n",
    "pos = np.zeros((10, 2))\n",
    "\n",
    "# Perform trilateration for each data point\n",
    "for k in range(10):\n",
    "    pos[k, :] = trilateration(anchor1, anchor2, radius1[k], radius2[k])\n",
    "\n",
    "# Save the results to a MATLAB file\n",
    "sio.savemat('Results/Trilateration_results.mat', {'pos': pos})"
   ]
  },
  {
   "cell_type": "markdown",
   "metadata": {},
   "source": [
    "### Trajectory Rotation\n",
    "\n",
    "In the above two tasks, we are estimating the relative trajectory of the RFID reader from the frame of reference of the object. Therefore the above blocks will output a sequence of relative positions of the reader with respect to the object. However, in order to obtain the true trajectory of the object, we must invert this trajectory back to a stationary frame of reference.\n",
    "\n",
    "This can be modeled as a simple matrix multiplication. That is, if we have a matrix `v` where the it `h` row of `v` denotes the relative `(x, y)` coordinate of the RFID reader at time `i` , then the true trajectory of the object can be obtained as ``v x R`` where `R` is a 2 × 2 matrix. In your report, you must derive the matrix `R`. You should use this matrix `R`, to complete the function invert_traj.\n",
    "\n",
    "In order to evaluate the function, you should run the inverted trajectory test cell below. This will save an output file to the Results folder."
   ]
  },
  {
   "cell_type": "code",
   "execution_count": 1,
   "metadata": {},
   "outputs": [],
   "source": [
    "def invert_traj(traj):\n",
    "    new_traj = np.zeros(traj.shape)\n",
    "\n",
    "    return new_traj\n"
   ]
  },
  {
   "cell_type": "code",
   "execution_count": null,
   "metadata": {},
   "outputs": [],
   "source": [
    "import numpy as np\n",
    "\n",
    "import matplotlib.pyplot as plt\n",
    "import scipy.io as sio\n",
    "\n",
    "# Load the trajectory data\n",
    "data = sio.loadmat('Test/Test_trajectory_inversion.mat')\n",
    "traj = data['traj']\n",
    "\n",
    "# Invert the trajectory\n",
    "traj_new = invert_traj(traj)\n",
    "\n",
    "# Plot the original and inverted trajectories\n",
    "fig, ax = plt.subplots()\n",
    "ax.plot(traj[:, 0], traj[:, 1], linewidth=4, label='Relative Trajectory')\n",
    "ax.plot(traj_new[:, 0], traj_new[:, 1], linewidth=4, label='Ground Frame Trajectory')\n",
    "ax.legend()\n",
    "ax.set_title('Trajectory Inversion Results')\n",
    "\n",
    "# Save the figure and trajectory data\n",
    "plt.savefig('Results/Result_trajectory_inversion.png')\n",
    "sio.savemat('Results/Result_trajectory_inversion.mat', {'traj_new': traj_new})"
   ]
  },
  {
   "cell_type": "markdown",
   "metadata": {},
   "source": [
    "### Estimate Trajectory \n",
    "\n",
    "Now that we have all the blocks ready, we can use them to track trajectory of the object. We col lect phase measurements from the RFID tags as the object moves on the trajectory, and provide\n",
    "them in the data file `Lab_Data/lab3_task4.txt`. You will process this data to estimate the relative trajectory of the reader, and further obtain the true trajectory of the object. \n",
    "\n",
    "\n",
    "The code for this subpart should be written in the cell below. The script should call the functions that you implemented in the previous sub-parts. The skeleton code provides you with all the measurements you need, such as the initial position of the RFID reader relative to the tags, the relative positioning of the RFID tags on the object, and the shape and dimensions of the ground truth trajectory of the object"
   ]
  },
  {
   "cell_type": "code",
   "execution_count": null,
   "metadata": {},
   "outputs": [],
   "source": [
    "\n",
    "# Assuming the functions read_data, get_phase_change, variation_distance, trilateration, invert_traj are already defined.\n",
    "\n",
    "# Read the data file\n",
    "file = 'Lab_Data/lab3_task4.txt'\n",
    "channel_log = read_data(file)\n",
    "\n",
    "\n",
    "# Extract and process the data\n",
    "epc = channel_log['EPC'].astype(str).values\n",
    "freq = channel_log['Frequency'].iloc[0] * 1e3\n",
    "pha = channel_log['Phase'].astype(float).values\n",
    "time = (channel_log['hour'] * 60 + channel_log['minute']) * 60 + channel_log['second'] + channel_log['nanosecond'] * 1e-9\n",
    "time = time - time[0]\n",
    "\n",
    "lambda_ = 3e8 / freq\n",
    "d = 7.62e-2\n",
    "\n",
    "anchorl = np.array([-d, 0])\n",
    "anchorr = np.array([d, 0])\n",
    "\n",
    "# Relative trace\n",
    "pos = np.zeros((len(time), 2))\n",
    "pos[0, :] = [1.12e-1, 8.33e-1]\n",
    "\n",
    "# Phase change\n",
    "\n",
    "# TODO: Plot phase unwrapping\n",
    "\n",
    "\n",
    "# TODO: Plot phase changes\n",
    "\n",
    "# Distance changes\n",
    "\n",
    "\n",
    "# TODO: Plot distances\n",
    "\n",
    "\n",
    "# Position changes\n",
    "\n",
    "# TODO: show trace\n",
    "\n",
    "\n",
    "# TODO: show Static trace\n",
    "\n",
    "\n",
    "# Measured trace\n"
   ]
  }
 ],
 "metadata": {
  "kernelspec": {
   "display_name": "an_vlsi",
   "language": "python",
   "name": "python3"
  },
  "language_info": {
   "codemirror_mode": {
    "name": "ipython",
    "version": 3
   },
   "file_extension": ".py",
   "mimetype": "text/x-python",
   "name": "python",
   "nbconvert_exporter": "python",
   "pygments_lexer": "ipython3",
   "version": "3.9.19"
  }
 },
 "nbformat": 4,
 "nbformat_minor": 2
}
