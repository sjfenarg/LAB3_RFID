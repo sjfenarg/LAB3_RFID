{
 "cells": [
  {
   "cell_type": "markdown",
   "metadata": {},
   "source": [
    "# Spatial Beam Patterns\n",
    "\n",
    "In this task, you must plot the spatial beam pattern given the channel measurements on the antenna elements. Let the coordinate of the antenna elements i be defined by (xi , yi ), and the\n",
    "corresponding channel measurement at antenna element i be h_i. \n",
    "\n",
    "Therefore, the spatial gain (power) at some point (x, y) on the 2D plane can be given by:\n",
    "\n",
    "<img src=\"media/image4.png\" alt=\"drawing\" width=\"600\"/> \n",
    "\n",
    "\n",
    "where N is the number of antenna elements, and λ is the wavelength of the RF signal."
   ]
  },
  {
   "cell_type": "markdown",
   "metadata": {},
   "source": [
    "However, due to the reflective nature of RFID transmissions, the above formula will need to be modified. \n",
    "\n",
    "You should write down the modified formula in your report, and explain it. Further, you should complete the code based on the above modified formula, in the function\n",
    "`spatial_beam_pattern` to return the Power value at some point (x, y) in 2D space. \n",
    "\n",
    "This function should take the following inputs:\n",
    "\n",
    "- The coordinate (x,y).\n",
    "- The matrix ant enna_pos, where the i t h row represents the tuple (xi , yi ).\n",
    "- The channel vector h, where hi represents the channel observed at the i t h antenna element.\n",
    "- λ which is the wavelength of the RF signal"
   ]
  },
  {
   "cell_type": "code",
   "execution_count": 58,
   "metadata": {},
   "outputs": [],
   "source": [
    "import numpy as np\n",
    "import matplotlib.pyplot as plt\n",
    "import os\n",
    "\n",
    "\n",
    "def spatial_beam_pattern(x, y, antenna_pos, h, wavelength):\n",
    "\n",
    "    power = np.zeros(1)\n",
    "\n",
    "    accum = np.zeros(1, dtype=complex)\n",
    "\n",
    "    for i in range(len(h)):\n",
    "        k = 4*np.pi/wavelength\n",
    "        dist = np.linalg.norm(antenna_pos[i] - np.array([x, y]))\n",
    "        accum += np.exp(1j * k * dist - h[i])\n",
    "\n",
    "    power = np.abs(accum)**2\n",
    "\n",
    "    return power\n",
    "\n",
    "def get_source_channel(antenna_coord, source, wavelength):\n",
    "    channels = np.zeros(len(antenna_coord))\n",
    "\n",
    "    k = 4*np.pi/wavelength\n",
    "\n",
    "    for i in range(len(antenna_coord)):\n",
    "        distance = np.linalg.norm(antenna_coord[i] - source)\n",
    "\n",
    "        channels[i] = np.angle(np.exp(1j*k*distance))\n",
    "\n",
    "    return np.rad2deg(channels)\n",
    "\n",
    "def make_ant_pos(antenna_spacing, num_ant):\n",
    "    antenna_coord = np.zeros((num_ant, 2))\n",
    "\n",
    "    start_cord = 0\n",
    "    for i in range(num_ant):\n",
    "\n",
    "        antenna_coord[i,0] = start_cord + i*antenna_spacing\n",
    "        \n",
    "    mean_position = np.mean(antenna_coord[:,0])\n",
    "\n",
    "    antenna_coord[:,0] = antenna_coord[:,0] - mean_position\n",
    "\n",
    "\n",
    "\n",
    "    return antenna_coord"
   ]
  },
  {
   "cell_type": "markdown",
   "metadata": {},
   "source": [
    "#### Testing on simulated data \n",
    "After completing the function, run the code cell below to test it on simulated data. The outputs should be saved to the `Results` folder and submitted along with your code"
   ]
  },
  {
   "cell_type": "code",
   "execution_count": null,
   "metadata": {},
   "outputs": [
    {
     "name": "stderr",
     "output_type": "stream",
     "text": [
      "C:\\Users\\mario\\AppData\\Local\\Temp\\ipykernel_16980\\3420841461.py:20: DeprecationWarning: Conversion of an array with ndim > 0 to a scalar is deprecated, and will error in future. Ensure you extract a single element from your array before performing this operation. (Deprecated NumPy 1.25.)\n",
      "  matrix[j, k] = spatial_beam_pattern(x_grid[j], y_grid[k], antenna_coord, channels, lambda_)\n"
     ]
    }
   ],
   "source": [
    "# Parameters\n",
    "lambda_ = 4\n",
    "antenna_spacing = [lambda_/4, lambda_/2, lambda_]\n",
    "num_ant = 4\n",
    "\n",
    "source = [1000000, 1000000]\n",
    "x_grid = np.arange(-1000, 1001)\n",
    "y_grid = np.flip(np.arange(0, 2001))\n",
    "\n",
    "# Loop through antenna spacings\n",
    "for l in range(3):\n",
    "    antenna_coord = make_ant_pos(antenna_spacing[l], num_ant)\n",
    "    \n",
    "    channels = get_source_channel(antenna_coord, source, lambda_)\n",
    "    matrix = np.zeros((len(x_grid), len(y_grid)))\n",
    "\n",
    "    for j in range(len(x_grid)):\n",
    "        for k in range(len(y_grid)):\n",
    "\n",
    "            matrix[j, k] = spatial_beam_pattern(x_grid[j], y_grid[k], antenna_coord, channels, lambda_)\n",
    "            \n",
    "\n",
    "\n",
    "    matrix = np.transpose(matrix)\n",
    "\n",
    "    plt.figure()\n",
    "    plt.imshow(matrix, extent=[x_grid.min(), x_grid.max(), y_grid.min(), y_grid.max()], cmap='gray', aspect='auto')\n",
    "    plt.colorbar()\n",
    "    plt.ylabel('Y Axis', fontsize=16)\n",
    "    plt.xlabel('X Axis', fontsize=16)\n",
    "    plt.title(f'Test Case Spatial Beam Pattern with Antenna Spacing {antenna_spacing[l]}', fontsize=20)\n",
    "\n",
    "\n",
    "\n",
    "    plt.savefig(f'Results/Result_test_spatial_beam{antenna_spacing[l]}.png', format='png')\n",
    "    plt.close()"
   ]
  },
  {
   "cell_type": "markdown",
   "metadata": {},
   "source": [
    "#### Testing on Data from RFID Hardware\n",
    "\n",
    "Below you will find the paramters of the channel values and positions of three antenna elements. \n",
    "- Plot the spatial beam pattern considering only antenna 1 and 2\n",
    "- Plot the spatial beam pattern considering only antenna 1 and 3"
   ]
  },
  {
   "cell_type": "code",
   "execution_count": 33,
   "metadata": {},
   "outputs": [],
   "source": [
    "# Values of h1, h2 and h3 provided here\n",
    "h1 = 66.2000  # In degrees\n",
    "h2 = 109.6875  # In degrees\n",
    "h3 = 164.4250  # In degrees\n",
    "\n",
    "# Convert to radians\n",
    "h1 = np.pi * h1 / 180\n",
    "h2 = np.pi * h2 / 180\n",
    "h3 = np.pi * h3 / 180\n",
    "\n",
    "# Coordinates of Antenna Elements in 2D plane provided here\n",
    "# Assume ant 1 is at origin and all other antennas lie on x axis\n",
    "d = 7.62e-2\n",
    "ant1 = np.array([0, 0])\n",
    "ant2 = np.array([-d, 0])\n",
    "ant3 = np.array([-2 * d, 0])\n",
    "\n",
    "# Frequency and Lambda provided here\n",
    "freq = 9.0275e8\n",
    "wavelength = 3e8 / freq\n"
   ]
  },
  {
   "cell_type": "code",
   "execution_count": 35,
   "metadata": {},
   "outputs": [],
   "source": [
    "\n",
    "# Antenna 1 and Antenna 2\n",
    "\n",
    "\n",
    "# Antenna 1 and Antenna 3\n"
   ]
  }
 ],
 "metadata": {
  "kernelspec": {
   "display_name": "base",
   "language": "python",
   "name": "python3"
  },
  "language_info": {
   "codemirror_mode": {
    "name": "ipython",
    "version": 3
   },
   "file_extension": ".py",
   "mimetype": "text/x-python",
   "name": "python",
   "nbconvert_exporter": "python",
   "pygments_lexer": "ipython3",
   "version": "3.10.10"
  }
 },
 "nbformat": 4,
 "nbformat_minor": 2
}
