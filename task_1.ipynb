{
 "cells": [
  {
   "cell_type": "markdown",
   "metadata": {},
   "source": [
    "# Distance Estimation from Phase Measurements\n",
    "In this task, you will work on the data in ‘./Lab_Data/lab3_task1.txt’. The setting of the data collection is as follows. We move the RFID tag in a straight line away from the RFID reader and collect phase measurements. We move the RFID tag away from the RFID reader by a distance d and collect phase measurements at each position. \n",
    "\n",
    "You are required to compute the phase change at different positions and use that to estimate the distance d as well as the total distance moved by the tag. \n",
    "Plot the phase variation vs Time as well as the distance variation vs time. "
   ]
  },
  {
   "cell_type": "code",
   "execution_count": 1,
   "metadata": {},
   "outputs": [],
   "source": [
    "def get_phase_change(pha):\n",
    "    dpha = 0\n",
    "    return dpha\n",
    "\n",
    "def get_dist_change(dpha, wavelength = 3e8 / 902750e3):\n",
    "    ddist = 0\n",
    "    return ddist"
   ]
  },
  {
   "cell_type": "code",
   "execution_count": 3,
   "metadata": {},
   "outputs": [
    {
     "data": {
      "text/plain": [
       "<Figure size 640x480 with 0 Axes>"
      ]
     },
     "metadata": {},
     "output_type": "display_data"
    },
    {
     "data": {
      "text/plain": [
       "<Figure size 640x480 with 0 Axes>"
      ]
     },
     "metadata": {},
     "output_type": "display_data"
    }
   ],
   "source": [
    "from utils import read_data\n",
    "## Task 1\n",
    "\n",
    "import numpy as np\n",
    "import pandas as pd\n",
    "import matplotlib.pyplot as plt\n",
    "\n",
    "\n",
    "# Insert data file path here\n",
    "file = 'Lab_Data/lab3_task1.txt'\n",
    "\n",
    "# Read data\n",
    "channel_log = read_data(file)\n",
    "\n",
    "\n",
    "# Extract and process data\n",
    "pha = channel_log['Phase'].astype(float).values\n",
    "freq = channel_log['Frequency'].iloc[0].astype(float) * 1e3\n",
    "time = ((channel_log['hour'] * 60 + channel_log['minute']) * 60 + channel_log['second']).astype(float).values\n",
    "time = time - time[0]\n",
    "c = 3e8\n",
    "# Compute phase change and distance change\n",
    "dpha = get_phase_change(pha)\n",
    "ddist = get_dist_change(dpha, wavelength= c / freq)\n",
    "\n",
    "# Cumulative distance\n",
    "dist = 0\n",
    "\n",
    "# Plotting Distance vs Time\n",
    "plt.figure()\n",
    "\n",
    "\n",
    "\n",
    "\n",
    "# Plotting Phase vs Time\n",
    "plt.figure()\n",
    "\n",
    "\n",
    "\n",
    "\n",
    "plt.show()\n"
   ]
  }
 ],
 "metadata": {
  "kernelspec": {
   "display_name": "pyt",
   "language": "python",
   "name": "python3"
  },
  "language_info": {
   "codemirror_mode": {
    "name": "ipython",
    "version": 3
   },
   "file_extension": ".py",
   "mimetype": "text/x-python",
   "name": "python",
   "nbconvert_exporter": "python",
   "pygments_lexer": "ipython3",
   "version": "3.12.4"
  }
 },
 "nbformat": 4,
 "nbformat_minor": 2
}
